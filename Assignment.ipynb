{
 "cells": [
  {
   "cell_type": "code",
   "execution_count": 8,
   "id": "7c0dbee0",
   "metadata": {},
   "outputs": [],
   "source": [
    "import cv2\n",
    "import os"
   ]
  },
  {
   "cell_type": "code",
   "execution_count": 4,
   "id": "cba7aae7",
   "metadata": {},
   "outputs": [
    {
     "name": "stdout",
     "output_type": "stream",
     "text": [
      "Frames extracted: 6000 frames\n"
     ]
    }
   ],
   "source": [
    "input_video_path = '/Users/ujjwalreddyks/Desktop/1.mp4'\n",
    "\n",
    "output_dir = '/Users/ujjwalreddyks/Desktop/r/'\n",
    "\n",
    "os.makedirs(output_dir, exist_ok=True)\n",
    "cap = cv2.VideoCapture(input_video_path)\n",
    "fps = int(cap.get(cv2.CAP_PROP_FPS))\n",
    "total_frames = int(cap.get(cv2.CAP_PROP_FRAME_COUNT)\n",
    "frame_count = fps * 120  \n",
    "\n",
    "for frame_num in range(frame_count):\n",
    "    ret, frame = cap.read()\n",
    "    if not ret:\n",
    "        break\n",
    "    \n",
    "    frame_filename = os.path.join(output_dir, f'frame_{frame_num:04d}.jpg')\n",
    "    cv2.imwrite(frame_filename, frame)\n",
    "\n",
    "cap.release()\n",
    "\n",
    "print(f\"Frames extracted: {frame_count} frames\")\n",
    "cv2.destroyAllWindows()\n"
   ]
  },
  {
   "cell_type": "code",
   "execution_count": 9,
   "id": "77f82236",
   "metadata": {},
   "outputs": [
    {
     "name": "stdout",
     "output_type": "stream",
     "text": [
      "Video created: /Users/ujjwalreddyks/Desktop/output_video2.mp4\n",
      "New video duration: 0:00 (mm:ss)\n"
     ]
    }
   ],
   "source": [
    "frames_dir = '/Users/ujjwalreddyks/Desktop/m/'\n",
    "\n",
    "output_video_path = '/Users/ujjwalreddyks/Desktop/output_video2.mp4'\n",
    "\n",
    "initial_frame_rate = 30\n",
    "new_frame_rate = int(initial_frame_rate * 1.25)\n",
    "frame_files = [os.path.join(frames_dir, f) for f in os.listdir(frames_dir) if f.endswith('.jpg')]\n",
    "frame_files.sort()\n",
    "first_frame = cv2.imread(frame_files[0])\n",
    "height, width, layers = first_frame.shape\n",
    "fourcc = cv2.VideoWriter_fourcc(*'mp4v')  \n",
    "out = cv2.VideoWriter(output_video_path, fourcc, new_frame_rate, (width, height))\n",
    "\n",
    "for frame_file in frame_files:\n",
    "    frame = cv2.imread(frame_file)\n",
    "    out.write(frame)\n",
    "\n",
    "new_duration = len(frame_files) / new_frame_rate\n",
    "out.release()\n",
    "\n",
    "print(f\"Video created: {output_video_path}\")\n",
    "print(f\"New video duration: {int(new_duration // 60)}:{int(new_duration % 60):02} (mm:ss)\")"
   ]
  },
  {
   "cell_type": "code",
   "execution_count": 2,
   "id": "8514f43f",
   "metadata": {},
   "outputs": [
    {
     "name": "stdout",
     "output_type": "stream",
     "text": [
      "/Users/ujjwalreddyks/Downloads/Wav2Lip-master\n"
     ]
    }
   ],
   "source": [
    "cd /Users/ujjwalreddyks/Downloads/Wav2Lip-master/"
   ]
  },
  {
   "cell_type": "code",
   "execution_count": 10,
   "id": "c8fa2335",
   "metadata": {},
   "outputs": [
    {
     "name": "stdout",
     "output_type": "stream",
     "text": [
      "OMP: Info #271: omp_set_nested routine deprecated, please use omp_set_max_active_levels instead.\n",
      "/opt/anaconda3/lib/python3.9/site-packages/resampy/interpn.py:114: NumbaWarning: \u001b[1m\u001b[1mThe TBB threading layer requires TBB version 2021 update 6 or later i.e., TBB_INTERFACE_VERSION >= 12060. Found TBB_INTERFACE_VERSION = 12040. The TBB threading layer is disabled.\u001b[0m\u001b[0m\n",
      "  _resample_loop_p(x, t_out, interp_win, interp_delta, num_table, scale, y)\n",
      "Using cpu for inference.\n",
      "Reading video frames...\n",
      "Number of frames available for inference: 1\n",
      "/Users/ujjwalreddyks/Downloads/Wav2Lip-master/audio.py:100: FutureWarning: Pass sr=16000, n_fft=800 as keyword args. From version 0.10 passing these as positional arguments will result in an error\n",
      "  return librosa.filters.mel(hp.sample_rate, hp.n_fft, n_mels=hp.num_mels,\n",
      "(80, 5386)\n",
      "Length of mel chunks: 2486\n",
      "  0%|                                                    | 0/20 [00:00<?, ?it/s]\n",
      "  0%|                                                     | 0/1 [00:00<?, ?it/s]\u001b[A\n",
      "100%|█████████████████████████████████████████████| 1/1 [00:01<00:00,  1.97s/it]\u001b[A\n",
      "Load checkpoint from: checkpoints/wav2lip_gan.pth\n",
      "Model loaded\n",
      "100%|███████████████████████████████████████████| 20/20 [07:37<00:00, 22.86s/it]\n",
      "ffmpeg version 6.0 Copyright (c) 2000-2023 the FFmpeg developers\n",
      "  built with Apple clang version 14.0.3 (clang-1403.0.22.14.1)\n",
      "  configuration: --prefix=/usr/local/Cellar/ffmpeg/6.0 --enable-shared --enable-pthreads --enable-version3 --cc=clang --host-cflags= --host-ldflags= --enable-ffplay --enable-gnutls --enable-gpl --enable-libaom --enable-libaribb24 --enable-libbluray --enable-libdav1d --enable-libmp3lame --enable-libopus --enable-librav1e --enable-librist --enable-librubberband --enable-libsnappy --enable-libsrt --enable-libsvtav1 --enable-libtesseract --enable-libtheora --enable-libvidstab --enable-libvmaf --enable-libvorbis --enable-libvpx --enable-libwebp --enable-libx264 --enable-libx265 --enable-libxml2 --enable-libxvid --enable-lzma --enable-libfontconfig --enable-libfreetype --enable-frei0r --enable-libass --enable-libopencore-amrnb --enable-libopencore-amrwb --enable-libopenjpeg --enable-libspeex --enable-libsoxr --enable-libzmq --enable-libzimg --disable-libjack --disable-indev=jack --enable-videotoolbox --enable-audiotoolbox\n",
      "  libavutil      58.  2.100 / 58.  2.100\n",
      "  libavcodec     60.  3.100 / 60.  3.100\n",
      "  libavformat    60.  3.100 / 60.  3.100\n",
      "  libavdevice    60.  1.100 / 60.  1.100\n",
      "  libavfilter     9.  3.100 /  9.  3.100\n",
      "  libswscale      7.  1.100 /  7.  1.100\n",
      "  libswresample   4. 10.100 /  4. 10.100\n",
      "  libpostproc    57.  1.100 / 57.  1.100\n",
      "\u001b[0;35m[mp3 @ 0x7f8f7fa04140] \u001b[0m\u001b[0;33mEstimating duration from bitrate, this may be inaccurate\n",
      "\u001b[0mInput #0, mp3, from '/Users/ujjwalreddyks/Desktop/output10.wav':\n",
      "  Duration: 00:01:07.32, start: 0.000000, bitrate: 96 kb/s\n",
      "  Stream #0:0: Audio: mp3, 44100 Hz, mono, fltp, 96 kb/s\n",
      "Input #1, avi, from 'temp/result.avi':\n",
      "  Metadata:\n",
      "    software        : Lavf60.3.100\n",
      "  Duration: 00:01:07.19, start: 0.000000, bitrate: 285 kb/s\n",
      "  Stream #1:0: Video: mpeg4 (Simple Profile) (DIVX / 0x58564944), yuv420p, 480x240 [SAR 1:1 DAR 2:1], 277 kb/s, 37 fps, 37 tbr, 37 tbn\n",
      "Stream mapping:\n",
      "  Stream #1:0 -> #0:0 (mpeg4 (native) -> h264 (libx264))\n",
      "  Stream #0:0 -> #0:1 (mp3 (mp3float) -> aac (native))\n",
      "Press [q] to stop, [?] for help\n",
      "\u001b[1;36m[libx264 @ 0x7f8f7f910800] \u001b[0m\u001b[0;33m-qscale is ignored, -crf is recommended.\n",
      "\u001b[0m\u001b[1;36m[libx264 @ 0x7f8f7f910800] \u001b[0musing SAR=1/1\n",
      "\u001b[1;36m[libx264 @ 0x7f8f7f910800] \u001b[0musing cpu capabilities: MMX2 SSE2Fast SSSE3 SSE4.2 AVX FMA3 BMI2 AVX2\n",
      "\u001b[1;36m[libx264 @ 0x7f8f7f910800] \u001b[0mprofile High, level 2.1, 4:2:0, 8-bit\n",
      "\u001b[1;36m[libx264 @ 0x7f8f7f910800] \u001b[0m264 - core 164 r3095 baee400 - H.264/MPEG-4 AVC codec - Copyleft 2003-2022 - http://www.videolan.org/x264.html - options: cabac=1 ref=3 deblock=1:0:0 analyse=0x3:0x113 me=hex subme=7 psy=1 psy_rd=1.00:0.00 mixed_ref=1 me_range=16 chroma_me=1 trellis=1 8x8dct=1 cqm=0 deadzone=21,11 fast_pskip=1 chroma_qp_offset=-2 threads=7 lookahead_threads=1 sliced_threads=0 nr=0 decimate=1 interlaced=0 bluray_compat=0 constrained_intra=0 bframes=3 b_pyramid=2 b_adapt=1 b_bias=0 direct=1 weightb=1 open_gop=0 weightp=2 keyint=250 keyint_min=25 scenecut=40 intra_refresh=0 rc_lookahead=40 rc=crf mbtree=1 crf=23.0 qcomp=0.60 qpmin=0 qpmax=69 qpstep=4 ip_ratio=1.40 aq=1:1.00\n",
      "Output #0, mp4, to 'results/result_voice.mp4':\n",
      "  Metadata:\n",
      "    encoder         : Lavf60.3.100\n",
      "  Stream #0:0: Video: h264 (avc1 / 0x31637661), yuv420p(progressive), 480x240 [SAR 1:1 DAR 2:1], q=2-31, 37 fps, 18944 tbn\n",
      "    Metadata:\n",
      "      encoder         : Lavc60.3.100 libx264\n",
      "    Side data:\n",
      "      cpb: bitrate max/min/avg: 0/0/0 buffer size: 0 vbv_delay: N/A\n",
      "  Stream #0:1: Audio: aac (LC) (mp4a / 0x6134706D), 44100 Hz, mono, fltp, 69 kb/s\n",
      "    Metadata:\n",
      "      encoder         : Lavc60.3.100 aac\n",
      "frame= 2486 fps=809 q=-1.0 Lsize=     918kB time=00:01:07.31 bitrate= 111.8kbits/s speed=21.9x     \n",
      "video:256kB audio:594kB subtitle:0kB other streams:0kB global headers:0kB muxing overhead: 8.094077%\n",
      "\u001b[1;36m[libx264 @ 0x7f8f7f910800] \u001b[0mframe I:10    Avg QP:14.22  size:  9450\n",
      "\u001b[1;36m[libx264 @ 0x7f8f7f910800] \u001b[0mframe P:958   Avg QP:19.17  size:   118\n",
      "\u001b[1;36m[libx264 @ 0x7f8f7f910800] \u001b[0mframe B:1518  Avg QP:19.00  size:    35\n",
      "\u001b[1;36m[libx264 @ 0x7f8f7f910800] \u001b[0mconsecutive B-frames: 14.4%  8.0% 13.2% 64.4%\n",
      "\u001b[1;36m[libx264 @ 0x7f8f7f910800] \u001b[0mmb I  I16..4: 25.2% 63.4% 11.5%\n",
      "\u001b[1;36m[libx264 @ 0x7f8f7f910800] \u001b[0mmb P  I16..4:  0.0%  0.2%  0.0%  P16..4:  1.8%  0.9%  0.5%  0.0%  0.0%    skip:96.6%\n",
      "\u001b[1;36m[libx264 @ 0x7f8f7f910800] \u001b[0mmb B  I16..4:  0.1%  0.0%  0.0%  B16..8:  1.5%  0.2%  0.0%  direct: 0.0%  skip:98.2%  L0:56.4% L1:42.4% BI: 1.2%\n",
      "\u001b[1;36m[libx264 @ 0x7f8f7f910800] \u001b[0m8x8 transform intra:64.7% inter:87.7%\n",
      "\u001b[1;36m[libx264 @ 0x7f8f7f910800] \u001b[0mcoded y,uvDC,uvAC intra: 42.9% 41.4% 20.2% inter: 0.5% 0.5% 0.0%\n",
      "\u001b[1;36m[libx264 @ 0x7f8f7f910800] \u001b[0mi16 v,h,dc,p: 72%  8% 16%  3%\n",
      "\u001b[1;36m[libx264 @ 0x7f8f7f910800] \u001b[0mi8 v,h,dc,ddl,ddr,vr,hd,vl,hu: 23% 12% 44%  4%  2%  4%  3%  3%  4%\n",
      "\u001b[1;36m[libx264 @ 0x7f8f7f910800] \u001b[0mi4 v,h,dc,ddl,ddr,vr,hd,vl,hu: 38% 21% 16%  4%  3%  6%  3%  6%  4%\n",
      "\u001b[1;36m[libx264 @ 0x7f8f7f910800] \u001b[0mi8c dc,h,v,p: 63% 13% 21%  3%\n",
      "\u001b[1;36m[libx264 @ 0x7f8f7f910800] \u001b[0mWeighted P-Frames: Y:0.0% UV:0.0%\n",
      "\u001b[1;36m[libx264 @ 0x7f8f7f910800] \u001b[0mref P L0: 57.8% 13.3% 17.9% 11.0%\n",
      "\u001b[1;36m[libx264 @ 0x7f8f7f910800] \u001b[0mref B L0: 74.6% 18.1%  7.3%\n",
      "\u001b[1;36m[libx264 @ 0x7f8f7f910800] \u001b[0mref B L1: 98.1%  1.9%\n",
      "\u001b[1;36m[libx264 @ 0x7f8f7f910800] \u001b[0mkb/s:31.11\n",
      "\u001b[1;36m[aac @ 0x7f8f7f911b40] \u001b[0mQavg: 180.666\n",
      "\u001b[0m"
     ]
    }
   ],
   "source": [
    "!python inference.py --checkpoint_path checkpoints/wav2lip_gan.pth --face \"/Users/ujjwalreddyks/Desktop/output_video2.mp4\" --audio \"/Users/ujjwalreddyks/Desktop/output10.wav\" --resize_factor 4 "
   ]
  },
  {
   "cell_type": "code",
   "execution_count": null,
   "id": "f992fe07",
   "metadata": {},
   "outputs": [],
   "source": []
  }
 ],
 "metadata": {
  "kernelspec": {
   "display_name": "Python 3 (ipykernel)",
   "language": "python",
   "name": "python3"
  },
  "language_info": {
   "codemirror_mode": {
    "name": "ipython",
    "version": 3
   },
   "file_extension": ".py",
   "mimetype": "text/x-python",
   "name": "python",
   "nbconvert_exporter": "python",
   "pygments_lexer": "ipython3",
   "version": "3.10.9"
  }
 },
 "nbformat": 4,
 "nbformat_minor": 5
}
