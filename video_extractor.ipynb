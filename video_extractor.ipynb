{
 "cells": [
  {
   "cell_type": "code",
   "execution_count": 8,
   "id": "7c0dbee0",
   "metadata": {},
   "outputs": [],
   "source": [
    "import cv2\n",
    "import os"
   ]
  },
  {
   "cell_type": "code",
   "execution_count": 4,
   "id": "cba7aae7",
   "metadata": {},
   "outputs": [
    {
     "name": "stdout",
     "output_type": "stream",
     "text": [
      "Frames extracted: 6000 frames\n"
     ]
    }
   ],
   "source": [
    "input_video_path = '/Users/ujjwalreddyks/Desktop/1.mp4'\n",
    "\n",
    "output_dir = '/Users/ujjwalreddyks/Desktop/r/'\n",
    "\n",
    "os.makedirs(output_dir, exist_ok=True)\n",
    "cap = cv2.VideoCapture(input_video_path)\n",
    "fps = int(cap.get(cv2.CAP_PROP_FPS))\n",
    "total_frames = int(cap.get(cv2.CAP_PROP_FRAME_COUNT)\n",
    "frame_count = fps * 120  \n",
    "\n",
    "for frame_num in range(frame_count):\n",
    "    ret, frame = cap.read()\n",
    "    if not ret:\n",
    "        break\n",
    "    \n",
    "    frame_filename = os.path.join(output_dir, f'frame_{frame_num:04d}.jpg')\n",
    "    cv2.imwrite(frame_filename, frame)\n",
    "\n",
    "cap.release()\n",
    "\n",
    "print(f\"Frames extracted: {frame_count} frames\")\n",
    "cv2.destroyAllWindows()\n"
   ]
  },
  {
   "cell_type": "code",
   "execution_count": 9,
   "id": "77f82236",
   "metadata": {},
   "outputs": [
    {
     "name": "stdout",
     "output_type": "stream",
     "text": [
      "Video created: /Users/ujjwalreddyks/Desktop/output_video2.mp4\n",
      "New video duration: 0:00 (mm:ss)\n"
     ]
    }
   ],
   "source": [
    "frames_dir = '/Users/ujjwalreddyks/Desktop/m/'\n",
    "\n",
    "output_video_path = '/Users/ujjwalreddyks/Desktop/output_video2.mp4'\n",
    "\n",
    "initial_frame_rate = 30\n",
    "new_frame_rate = int(initial_frame_rate * 1.25)\n",
    "frame_files = [os.path.join(frames_dir, f) for f in os.listdir(frames_dir) if f.endswith('.jpg')]\n",
    "frame_files.sort()\n",
    "first_frame = cv2.imread(frame_files[0])\n",
    "height, width, layers = first_frame.shape\n",
    "fourcc = cv2.VideoWriter_fourcc(*'mp4v')  \n",
    "out = cv2.VideoWriter(output_video_path, fourcc, new_frame_rate, (width, height))\n",
    "\n",
    "for frame_file in frame_files:\n",
    "    frame = cv2.imread(frame_file)\n",
    "    out.write(frame)\n",
    "\n",
    "new_duration = len(frame_files) / new_frame_rate\n",
    "out.release()\n",
    "\n",
    "print(f\"Video created: {output_video_path}\")\n",
    "print(f\"New video duration: {int(new_duration // 60)}:{int(new_duration % 60):02} (mm:ss)\")"
   ]
  },
  {
   "cell_type": "code",
   "execution_count": 2,
   "id": "dd25714c",
   "metadata": {},
   "outputs": [
    {
     "name": "stdout",
     "output_type": "stream",
     "text": [
      "/Users/ujjwalreddyks/Downloads/Wav2Lip-master\n"
     ]
    }
   ],
   "source": [
    "cd /Users/ujjwalreddyks/Downloads/Wav2Lip-master/"
   ]
  },
  {
   "cell_type": "code",
   "execution_count": null,
   "id": "c8fa2335",
   "metadata": {},
   "outputs": [
    {
     "name": "stdout",
     "output_type": "stream",
     "text": [
      "OMP: Info #271: omp_set_nested routine deprecated, please use omp_set_max_active_levels instead.\n",
      "/opt/anaconda3/lib/python3.9/site-packages/resampy/interpn.py:114: NumbaWarning: \u001b[1m\u001b[1mThe TBB threading layer requires TBB version 2021 update 6 or later i.e., TBB_INTERFACE_VERSION >= 12060. Found TBB_INTERFACE_VERSION = 12040. The TBB threading layer is disabled.\u001b[0m\u001b[0m\n",
      "  _resample_loop_p(x, t_out, interp_win, interp_delta, num_table, scale, y)\n",
      "Using cpu for inference.\n",
      "Reading video frames...\n",
      "Number of frames available for inference: 1\n",
      "/Users/ujjwalreddyks/Downloads/Wav2Lip-master/audio.py:100: FutureWarning: Pass sr=16000, n_fft=800 as keyword args. From version 0.10 passing these as positional arguments will result in an error\n",
      "  return librosa.filters.mel(hp.sample_rate, hp.n_fft, n_mels=hp.num_mels,\n",
      "(80, 5386)\n",
      "Length of mel chunks: 2486\n",
      "  0%|                                                    | 0/20 [00:00<?, ?it/s]\n",
      "  0%|                                                     | 0/1 [00:00<?, ?it/s]\u001b[A\n",
      "100%|█████████████████████████████████████████████| 1/1 [00:01<00:00,  1.97s/it]\u001b[A\n",
      "Load checkpoint from: checkpoints/wav2lip_gan.pth\n",
      "Model loaded\n",
      " 30%|█████████████▏                              | 6/20 [02:30<05:44, 24.61s/it]"
     ]
    }
   ],
   "source": [
    "!python inference.py --checkpoint_path checkpoints/wav2lip_gan.pth --face \"/Users/ujjwalreddyks/Desktop/output_video2.mp4\" --audio \"/Users/ujjwalreddyks/Desktop/output10.wav\" --resize_factor 4 "
   ]
  },
  {
   "cell_type": "code",
   "execution_count": null,
   "id": "f992fe07",
   "metadata": {},
   "outputs": [],
   "source": []
  }
 ],
 "metadata": {
  "kernelspec": {
   "display_name": "Python 3 (ipykernel)",
   "language": "python",
   "name": "python3"
  },
  "language_info": {
   "codemirror_mode": {
    "name": "ipython",
    "version": 3
   },
   "file_extension": ".py",
   "mimetype": "text/x-python",
   "name": "python",
   "nbconvert_exporter": "python",
   "pygments_lexer": "ipython3",
   "version": "3.10.9"
  }
 },
 "nbformat": 4,
 "nbformat_minor": 5
}
